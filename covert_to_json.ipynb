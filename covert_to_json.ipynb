{
 "cells": [
  {
   "cell_type": "code",
   "execution_count": 81,
   "metadata": {},
   "outputs": [
    {
     "name": "stdout",
     "output_type": "stream",
     "text": [
      "数据已成功保存为 courses.json\n"
     ]
    }
   ],
   "source": [
    "import pandas as pd\n",
    "import json\n",
    "import re\n",
    "\n",
    "def is_valid_course_code(course_code):\n",
    "    return bool(re.match(r'^[A-Z]{3}.*', str(course_code)))\n",
    "\n",
    "files = ['2022A.xlsx', '2022S.xlsx', '2023A.xlsx', '2023S.xlsx', '2024S.xlsx']\n",
    "merged_data = []\n",
    "\n",
    "def Filter(df):\n",
    "    df_filtered = df.dropna()\n",
    "    df_filtered = df[df['登録コード'].apply(lambda x: is_valid_course_code(str(x)))]\n",
    "    return df_filtered\n",
    "\n",
    "for file in files:\n",
    "    df = pd.read_excel(file, engine='openpyxl')\n",
    "    df = Filter(df)\n",
    "\n",
    "    semester = file.split('.')[0]\n",
    "    if semester[4] == 'A':\n",
    "        semester = semester[:4] + '秋'\n",
    "    if semester[4] == 'S':\n",
    "        semester = semester[:4] + '春'\n",
    "    for index, row in df.iterrows():\n",
    "        data = {\n",
    "            \"semester\": semester,\n",
    "            \"course\": row['登録コード'],\n",
    "            \"title\": row.iloc[3].replace('\\xa0', ' ').strip(),\n",
    "            \"instructor\": row.iloc[4].replace('\\u3000', ' ').strip(),\n",
    "            \"students\": row.iloc[5],\n",
    "            \"A\": row.iloc[6],\n",
    "            \"B\": row.iloc[7],\n",
    "            \"C\": row.iloc[8],\n",
    "            \"D\": row.iloc[9],\n",
    "            \"F\": row.iloc[10],\n",
    "            \"Others\": row.iloc[11],\n",
    "            \"Average_GPA\": row.iloc[12],\n",
    "        }\n",
    "        merged_data.append(data)\n",
    "\n",
    "with open('courses.json', 'w', encoding='utf-8') as json_file:\n",
    "    json.dump(merged_data, json_file, ensure_ascii=False, indent=4)\n",
    "\n",
    "print(\"数据已成功保存为 courses.json\")\n",
    "    \n"
   ]
  },
  {
   "cell_type": "code",
   "execution_count": null,
   "metadata": {},
   "outputs": [],
   "source": []
  }
 ],
 "metadata": {
  "kernelspec": {
   "display_name": "Python 3",
   "language": "python",
   "name": "python3"
  },
  "language_info": {
   "codemirror_mode": {
    "name": "ipython",
    "version": 3
   },
   "file_extension": ".py",
   "mimetype": "text/x-python",
   "name": "python",
   "nbconvert_exporter": "python",
   "pygments_lexer": "ipython3",
   "version": "3.11.9"
  }
 },
 "nbformat": 4,
 "nbformat_minor": 2
}
